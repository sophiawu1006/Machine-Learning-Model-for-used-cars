{
 "cells": [
  {
   "cell_type": "markdown",
   "metadata": {},
   "source": [
    "# Mini-Project 1 - Used Cars in the USA - SVM & LR Classification\n",
    "#### By: David Wei, Sophia Wu, Dhruba Dey, Queena Wang"
   ]
  },
  {
   "cell_type": "markdown",
   "metadata": {},
   "source": [
    "## Introduction\n",
    "In this section we will continue using our used car dataset and be building out a classification model using Logistic Regression (LR), Support Vector Machines (SVM) and then optimizing these models using SGD (Stochastic Gradient Descent). In the following sections we have split up these areas into the following points:\n",
    "1. Data Tidying\n",
    "2. Data Transformations\n",
    "3. Feature Select & Dimensionality Reduction\n",
    "4. Logistic Regression\n",
    "5. SVM\n",
    "6. Optimization for LR and SVM\n",
    "7. Analyzing and Intepretations of LR, SVM, and SGD Models\n",
    "8. Conclusions"
   ]
  },
  {
   "cell_type": "code",
   "execution_count": 1,
   "metadata": {
    "scrolled": true
   },
   "outputs": [],
   "source": [
    "#importing libraries and reading in file\n",
    "import pandas as pd\n",
    "import numpy as np\n",
    "import warnings\n",
    "warnings.filterwarnings('ignore') #ignoring warnings\n",
    "import missingno as msno\n",
    "\n",
    "#plotting libraries\n",
    "import matplotlib.pyplot as plt\n",
    "import seaborn as sns\n",
    "from plotnine.data import economics\n",
    "from plotnine import ggplot, aes, geom_line\n",
    "\n",
    "#general sklearn libraries\n",
    "from scipy.stats import trim_mean, kurtosis\n",
    "from scipy.stats.mstats import mode, gmean, hmean\n",
    "import ptitprince as pt\n",
    "import sklearn.preprocessing as preprocessing\n",
    "import sklearn.model_selection as cross_validation\n",
    "import sklearn.linear_model as linear_model\n",
    "from sklearn.metrics import accuracy_score\n",
    "from sklearn.preprocessing import OneHotEncoder\n",
    "from sklearn.ensemble import RandomForestRegressor, GradientBoostingRegressor\n",
    "from sklearn.model_selection import ShuffleSplit\n",
    "from sklearn.preprocessing import StandardScaler #for scaling\n",
    "\n",
    "#logistic regression\n",
    "from sklearn.linear_model import LogisticRegression\n",
    "from sklearn import metrics as mt\n",
    "from sklearn.model_selection import cross_val_score"
   ]
  },
  {
   "cell_type": "markdown",
   "metadata": {},
   "source": [
    "For convenience and clarity, we have exported all of the data tidying and cleaning we have applied to our original dataset from our initial EDA workbook as an importable file. This will allow us to simply pick up on where we left off without cluttering our notebook with all prior code. For reference, please refer to the following [github link](https://github.com/chee154/ml-Py-used_cars/blob/main/Used_Car_Lab_1_DataVisualization.ipynb) where all work has been contained."
   ]
  },
  {
   "cell_type": "code",
   "execution_count": 2,
   "metadata": {},
   "outputs": [
    {
     "name": "stdout",
     "output_type": "stream",
     "text": [
      "# of Records: 697989\n",
      "# of Columns: 18\n"
     ]
    }
   ],
   "source": [
    "#df_raw = pd.read_csv('data/finaldata.csv')\n",
    "#df_raw = pd.read_csv('C:/ml-Py-used_cars/data/kaggle_used_cars_data.csv')\n",
    "df_raw = pd.read_csv(r'E:\\Data Files\\used_cars_data_cleaned.csv')\n",
    "print('# of Records: '+str(len(df_raw)))\n",
    "print('# of Columns: '+str(df_raw.shape[1]))"
   ]
  },
  {
   "cell_type": "markdown",
   "metadata": {},
   "source": [
    "## Data Tidying"
   ]
  },
  {
   "cell_type": "markdown",
   "metadata": {},
   "source": [
    "#### Addressing Empty Values\n",
    "<b>NOTE</b>: First time running the logistic regression model returned an error: \n",
    "<br>\n",
    "*ValueError: Input contains NaN, infinity or a value too large for dtype('float64').*\n",
    "<br>\n",
    "Therefore, we will fix this by once again removing any strangling NA records from our dataset."
   ]
  },
  {
   "cell_type": "code",
   "execution_count": 3,
   "metadata": {},
   "outputs": [
    {
     "name": "stdout",
     "output_type": "stream",
     "text": [
      "697881\n",
      "# of Records Removed: 108\n"
     ]
    }
   ],
   "source": [
    "df_cleaned = df_raw.copy()\n",
    "df_cleaned = df_cleaned.dropna()\n",
    "print(len(df_cleaned))\n",
    "print('# of Records Removed: '+str(len(df_raw)-len(df_cleaned)))"
   ]
  },
  {
   "cell_type": "markdown",
   "metadata": {},
   "source": [
    "#### Cleaning up final dataframe\n",
    "After the initial EDA, we will make the appropriate adjustments to our dataset based on our findings. To begin, let's get look at the relationship between **'length'** and **'height'** due to it's high correlation."
   ]
  },
  {
   "cell_type": "code",
   "execution_count": 4,
   "metadata": {},
   "outputs": [
    {
     "name": "stdout",
     "output_type": "stream",
     "text": [
      "18\n",
      "they are the same... dropping one\n",
      "17\n"
     ]
    }
   ],
   "source": [
    "df_test = df_cleaned.copy()\n",
    "print(df_test.shape[1])\n",
    "\n",
    "if df_test['length'].equals(df_test['height']) == True:\n",
    "    print('they are the same... dropping one')\n",
    "    df_test = df_test.drop(columns='height')\n",
    "    print(df_test.shape[1])\n",
    "else: \n",
    "    print('they are not the same')"
   ]
  },
  {
   "cell_type": "markdown",
   "metadata": {},
   "source": [
    "## Data Transformations for Modeling"
   ]
  },
  {
   "cell_type": "markdown",
   "metadata": {},
   "source": [
    "#### IntegerEncoding\n",
    "Once the data has been imported and cleaned, we will work on transforming our dataset to be more useful for our classification models. To start we will first one-hot encode all of our categorical (object) datatypes as numbers."
   ]
  },
  {
   "cell_type": "code",
   "execution_count": 5,
   "metadata": {},
   "outputs": [],
   "source": [
    "def number_encode_features(df):\n",
    "    result = df_cleaned.copy()\n",
    "    encoders = {}\n",
    "    for column in result.columns:\n",
    "        if result.dtypes[column] == np.object or result.dtypes[column]==np.bool:\n",
    "            encoders[column] = preprocessing.LabelEncoder()\n",
    "            result[column] = encoders[column].fit_transform(result[column])\n",
    "    print('Columns converted: '+str(encoders))\n",
    "    return result"
   ]
  },
  {
   "cell_type": "markdown",
   "metadata": {},
   "source": [
    "Below shows a snap shot of what the final data looks like after categorical data has been encoded.\n",
    "You can see the body type is in a numerical representation, instead of a string (object) type, before being encoded.\n",
    "<br>\n",
    "- Below shows a snap shot of what the final data looks like after categorical data has been encoded.\n",
    "- You can see the body type is in a numerical representation, instead of a string (object) type, before being encoded."
   ]
  },
  {
   "cell_type": "code",
   "execution_count": 6,
   "metadata": {
    "scrolled": true
   },
   "outputs": [
    {
     "name": "stdout",
     "output_type": "stream",
     "text": [
      "Columns converted: {'body_type': LabelEncoder(), 'frame_damaged': LabelEncoder(), 'has_accidents': LabelEncoder(), 'is_new': LabelEncoder()}\n"
     ]
    },
    {
     "data": {
      "text/html": [
       "<div>\n",
       "<style scoped>\n",
       "    .dataframe tbody tr th:only-of-type {\n",
       "        vertical-align: middle;\n",
       "    }\n",
       "\n",
       "    .dataframe tbody tr th {\n",
       "        vertical-align: top;\n",
       "    }\n",
       "\n",
       "    .dataframe thead th {\n",
       "        text-align: right;\n",
       "    }\n",
       "</style>\n",
       "<table border=\"1\" class=\"dataframe\">\n",
       "  <thead>\n",
       "    <tr style=\"text-align: right;\">\n",
       "      <th></th>\n",
       "      <th>body_type</th>\n",
       "      <th>city_fuel_economy</th>\n",
       "      <th>daysonmarket</th>\n",
       "      <th>engine_displacement</th>\n",
       "      <th>frame_damaged</th>\n",
       "      <th>has_accidents</th>\n",
       "      <th>height</th>\n",
       "      <th>highway_fuel_economy</th>\n",
       "      <th>horsepower</th>\n",
       "      <th>is_new</th>\n",
       "      <th>length</th>\n",
       "      <th>maximum_seating</th>\n",
       "      <th>mileage</th>\n",
       "      <th>owner_count</th>\n",
       "      <th>price</th>\n",
       "      <th>seller_rating</th>\n",
       "      <th>width</th>\n",
       "      <th>year</th>\n",
       "    </tr>\n",
       "  </thead>\n",
       "  <tbody>\n",
       "    <tr>\n",
       "      <th>0</th>\n",
       "      <td>6</td>\n",
       "      <td>27.0</td>\n",
       "      <td>55</td>\n",
       "      <td>1500.0</td>\n",
       "      <td>0</td>\n",
       "      <td>0</td>\n",
       "      <td>57.6</td>\n",
       "      <td>36.0</td>\n",
       "      <td>160.0</td>\n",
       "      <td>0</td>\n",
       "      <td>57.6</td>\n",
       "      <td>5.0</td>\n",
       "      <td>42394.0</td>\n",
       "      <td>1.0</td>\n",
       "      <td>14639.0</td>\n",
       "      <td>3.447761</td>\n",
       "      <td>73.0</td>\n",
       "      <td>2018</td>\n",
       "    </tr>\n",
       "    <tr>\n",
       "      <th>1</th>\n",
       "      <td>1</td>\n",
       "      <td>18.0</td>\n",
       "      <td>36</td>\n",
       "      <td>3500.0</td>\n",
       "      <td>0</td>\n",
       "      <td>0</td>\n",
       "      <td>55.1</td>\n",
       "      <td>24.0</td>\n",
       "      <td>311.0</td>\n",
       "      <td>0</td>\n",
       "      <td>55.1</td>\n",
       "      <td>4.0</td>\n",
       "      <td>62251.0</td>\n",
       "      <td>1.0</td>\n",
       "      <td>32000.0</td>\n",
       "      <td>2.800000</td>\n",
       "      <td>81.5</td>\n",
       "      <td>2018</td>\n",
       "    </tr>\n",
       "    <tr>\n",
       "      <th>2</th>\n",
       "      <td>5</td>\n",
       "      <td>18.0</td>\n",
       "      <td>27</td>\n",
       "      <td>3600.0</td>\n",
       "      <td>0</td>\n",
       "      <td>0</td>\n",
       "      <td>70.7</td>\n",
       "      <td>27.0</td>\n",
       "      <td>310.0</td>\n",
       "      <td>0</td>\n",
       "      <td>70.7</td>\n",
       "      <td>8.0</td>\n",
       "      <td>36410.0</td>\n",
       "      <td>1.0</td>\n",
       "      <td>23723.0</td>\n",
       "      <td>3.447761</td>\n",
       "      <td>78.6</td>\n",
       "      <td>2018</td>\n",
       "    </tr>\n",
       "    <tr>\n",
       "      <th>3</th>\n",
       "      <td>5</td>\n",
       "      <td>15.0</td>\n",
       "      <td>27</td>\n",
       "      <td>3600.0</td>\n",
       "      <td>0</td>\n",
       "      <td>1</td>\n",
       "      <td>69.9</td>\n",
       "      <td>22.0</td>\n",
       "      <td>281.0</td>\n",
       "      <td>0</td>\n",
       "      <td>69.9</td>\n",
       "      <td>8.0</td>\n",
       "      <td>36055.0</td>\n",
       "      <td>1.0</td>\n",
       "      <td>22422.0</td>\n",
       "      <td>3.447761</td>\n",
       "      <td>78.5</td>\n",
       "      <td>2017</td>\n",
       "    </tr>\n",
       "    <tr>\n",
       "      <th>4</th>\n",
       "      <td>5</td>\n",
       "      <td>18.0</td>\n",
       "      <td>24</td>\n",
       "      <td>3600.0</td>\n",
       "      <td>0</td>\n",
       "      <td>0</td>\n",
       "      <td>69.3</td>\n",
       "      <td>25.0</td>\n",
       "      <td>295.0</td>\n",
       "      <td>0</td>\n",
       "      <td>69.3</td>\n",
       "      <td>5.0</td>\n",
       "      <td>25745.0</td>\n",
       "      <td>1.0</td>\n",
       "      <td>29424.0</td>\n",
       "      <td>3.447761</td>\n",
       "      <td>84.8</td>\n",
       "      <td>2018</td>\n",
       "    </tr>\n",
       "    <tr>\n",
       "      <th>...</th>\n",
       "      <td>...</td>\n",
       "      <td>...</td>\n",
       "      <td>...</td>\n",
       "      <td>...</td>\n",
       "      <td>...</td>\n",
       "      <td>...</td>\n",
       "      <td>...</td>\n",
       "      <td>...</td>\n",
       "      <td>...</td>\n",
       "      <td>...</td>\n",
       "      <td>...</td>\n",
       "      <td>...</td>\n",
       "      <td>...</td>\n",
       "      <td>...</td>\n",
       "      <td>...</td>\n",
       "      <td>...</td>\n",
       "      <td>...</td>\n",
       "      <td>...</td>\n",
       "    </tr>\n",
       "    <tr>\n",
       "      <th>697984</th>\n",
       "      <td>5</td>\n",
       "      <td>26.0</td>\n",
       "      <td>32</td>\n",
       "      <td>1400.0</td>\n",
       "      <td>0</td>\n",
       "      <td>0</td>\n",
       "      <td>66.0</td>\n",
       "      <td>31.0</td>\n",
       "      <td>138.0</td>\n",
       "      <td>0</td>\n",
       "      <td>66.0</td>\n",
       "      <td>5.0</td>\n",
       "      <td>7444.0</td>\n",
       "      <td>1.0</td>\n",
       "      <td>17836.0</td>\n",
       "      <td>4.533333</td>\n",
       "      <td>69.9</td>\n",
       "      <td>2019</td>\n",
       "    </tr>\n",
       "    <tr>\n",
       "      <th>697985</th>\n",
       "      <td>5</td>\n",
       "      <td>26.0</td>\n",
       "      <td>17</td>\n",
       "      <td>2500.0</td>\n",
       "      <td>0</td>\n",
       "      <td>0</td>\n",
       "      <td>66.4</td>\n",
       "      <td>32.0</td>\n",
       "      <td>170.0</td>\n",
       "      <td>0</td>\n",
       "      <td>66.4</td>\n",
       "      <td>5.0</td>\n",
       "      <td>20160.0</td>\n",
       "      <td>1.0</td>\n",
       "      <td>20700.0</td>\n",
       "      <td>4.333333</td>\n",
       "      <td>80.0</td>\n",
       "      <td>2017</td>\n",
       "    </tr>\n",
       "    <tr>\n",
       "      <th>697986</th>\n",
       "      <td>6</td>\n",
       "      <td>26.0</td>\n",
       "      <td>17</td>\n",
       "      <td>2500.0</td>\n",
       "      <td>0</td>\n",
       "      <td>0</td>\n",
       "      <td>57.9</td>\n",
       "      <td>37.0</td>\n",
       "      <td>179.0</td>\n",
       "      <td>0</td>\n",
       "      <td>57.9</td>\n",
       "      <td>5.0</td>\n",
       "      <td>62138.0</td>\n",
       "      <td>1.0</td>\n",
       "      <td>17700.0</td>\n",
       "      <td>4.333333</td>\n",
       "      <td>72.0</td>\n",
       "      <td>2018</td>\n",
       "    </tr>\n",
       "    <tr>\n",
       "      <th>697987</th>\n",
       "      <td>4</td>\n",
       "      <td>18.0</td>\n",
       "      <td>89</td>\n",
       "      <td>3500.0</td>\n",
       "      <td>0</td>\n",
       "      <td>0</td>\n",
       "      <td>70.6</td>\n",
       "      <td>23.0</td>\n",
       "      <td>278.0</td>\n",
       "      <td>0</td>\n",
       "      <td>70.6</td>\n",
       "      <td>5.0</td>\n",
       "      <td>20009.0</td>\n",
       "      <td>1.0</td>\n",
       "      <td>40993.0</td>\n",
       "      <td>5.000000</td>\n",
       "      <td>75.2</td>\n",
       "      <td>2017</td>\n",
       "    </tr>\n",
       "    <tr>\n",
       "      <th>697988</th>\n",
       "      <td>5</td>\n",
       "      <td>26.0</td>\n",
       "      <td>17</td>\n",
       "      <td>2500.0</td>\n",
       "      <td>0</td>\n",
       "      <td>0</td>\n",
       "      <td>68.1</td>\n",
       "      <td>33.0</td>\n",
       "      <td>170.0</td>\n",
       "      <td>0</td>\n",
       "      <td>68.1</td>\n",
       "      <td>7.0</td>\n",
       "      <td>22600.0</td>\n",
       "      <td>1.0</td>\n",
       "      <td>19900.0</td>\n",
       "      <td>4.333333</td>\n",
       "      <td>72.4</td>\n",
       "      <td>2017</td>\n",
       "    </tr>\n",
       "  </tbody>\n",
       "</table>\n",
       "<p>697881 rows × 18 columns</p>\n",
       "</div>"
      ],
      "text/plain": [
       "        body_type  city_fuel_economy  daysonmarket  engine_displacement  \\\n",
       "0               6               27.0            55               1500.0   \n",
       "1               1               18.0            36               3500.0   \n",
       "2               5               18.0            27               3600.0   \n",
       "3               5               15.0            27               3600.0   \n",
       "4               5               18.0            24               3600.0   \n",
       "...           ...                ...           ...                  ...   \n",
       "697984          5               26.0            32               1400.0   \n",
       "697985          5               26.0            17               2500.0   \n",
       "697986          6               26.0            17               2500.0   \n",
       "697987          4               18.0            89               3500.0   \n",
       "697988          5               26.0            17               2500.0   \n",
       "\n",
       "        frame_damaged  has_accidents  height  highway_fuel_economy  \\\n",
       "0                   0              0    57.6                  36.0   \n",
       "1                   0              0    55.1                  24.0   \n",
       "2                   0              0    70.7                  27.0   \n",
       "3                   0              1    69.9                  22.0   \n",
       "4                   0              0    69.3                  25.0   \n",
       "...               ...            ...     ...                   ...   \n",
       "697984              0              0    66.0                  31.0   \n",
       "697985              0              0    66.4                  32.0   \n",
       "697986              0              0    57.9                  37.0   \n",
       "697987              0              0    70.6                  23.0   \n",
       "697988              0              0    68.1                  33.0   \n",
       "\n",
       "        horsepower  is_new  length  maximum_seating  mileage  owner_count  \\\n",
       "0            160.0       0    57.6              5.0  42394.0          1.0   \n",
       "1            311.0       0    55.1              4.0  62251.0          1.0   \n",
       "2            310.0       0    70.7              8.0  36410.0          1.0   \n",
       "3            281.0       0    69.9              8.0  36055.0          1.0   \n",
       "4            295.0       0    69.3              5.0  25745.0          1.0   \n",
       "...            ...     ...     ...              ...      ...          ...   \n",
       "697984       138.0       0    66.0              5.0   7444.0          1.0   \n",
       "697985       170.0       0    66.4              5.0  20160.0          1.0   \n",
       "697986       179.0       0    57.9              5.0  62138.0          1.0   \n",
       "697987       278.0       0    70.6              5.0  20009.0          1.0   \n",
       "697988       170.0       0    68.1              7.0  22600.0          1.0   \n",
       "\n",
       "          price  seller_rating  width  year  \n",
       "0       14639.0       3.447761   73.0  2018  \n",
       "1       32000.0       2.800000   81.5  2018  \n",
       "2       23723.0       3.447761   78.6  2018  \n",
       "3       22422.0       3.447761   78.5  2017  \n",
       "4       29424.0       3.447761   84.8  2018  \n",
       "...         ...            ...    ...   ...  \n",
       "697984  17836.0       4.533333   69.9  2019  \n",
       "697985  20700.0       4.333333   80.0  2017  \n",
       "697986  17700.0       4.333333   72.0  2018  \n",
       "697987  40993.0       5.000000   75.2  2017  \n",
       "697988  19900.0       4.333333   72.4  2017  \n",
       "\n",
       "[697881 rows x 18 columns]"
      ]
     },
     "execution_count": 6,
     "metadata": {},
     "output_type": "execute_result"
    }
   ],
   "source": [
    "encoded_data = number_encode_features(df_cleaned)\n",
    "encoded_data"
   ]
  },
  {
   "cell_type": "markdown",
   "metadata": {},
   "source": [
    "Referncing our transformed variable 'price_group' as an int to it's original string value for future analysis and interpretation"
   ]
  },
  {
   "cell_type": "markdown",
   "metadata": {},
   "source": [
    "Now we are ready for some model building!"
   ]
  },
  {
   "cell_type": "code",
   "execution_count": 7,
   "metadata": {
    "scrolled": true
   },
   "outputs": [
    {
     "name": "stdout",
     "output_type": "stream",
     "text": [
      "# of Records: 697881\n",
      "# of Columns: 18\n",
      "\n",
      "body_type                 int32\n",
      "city_fuel_economy       float64\n",
      "daysonmarket              int64\n",
      "engine_displacement     float64\n",
      "frame_damaged             int64\n",
      "has_accidents             int64\n",
      "height                  float64\n",
      "highway_fuel_economy    float64\n",
      "horsepower              float64\n",
      "is_new                    int64\n",
      "length                  float64\n",
      "maximum_seating         float64\n",
      "mileage                 float64\n",
      "owner_count             float64\n",
      "price                   float64\n",
      "seller_rating           float64\n",
      "width                   float64\n",
      "year                      int64\n",
      "dtype: object\n"
     ]
    }
   ],
   "source": [
    "df_final = encoded_data.copy()\n",
    "print('# of Records: '+str(len(df_final)))\n",
    "print('# of Columns: '+str(df_final.shape[1]))\n",
    "print()\n",
    "print(df_final.dtypes)"
   ]
  },
  {
   "cell_type": "code",
   "execution_count": null,
   "metadata": {},
   "outputs": [],
   "source": [
    "#https://scikit-learn.org/stable/modules/generated/sklearn.feature_selection.SelectKBest.html#sklearn.feature_selection.SelectKBest"
   ]
  },
  {
   "cell_type": "markdown",
   "metadata": {},
   "source": [
    "## Feature Selection & Dimensionality Reduction"
   ]
  },
  {
   "cell_type": "markdown",
   "metadata": {},
   "source": [
    "#### Running PCA for data reduction"
   ]
  },
  {
   "cell_type": "code",
   "execution_count": 8,
   "metadata": {},
   "outputs": [
    {
     "name": "stdout",
     "output_type": "stream",
     "text": [
      "<class 'pandas.core.frame.DataFrame'>\n",
      "Int64Index: 697881 entries, 0 to 697988\n",
      "Data columns (total 13 columns):\n",
      " #   Column                Non-Null Count   Dtype  \n",
      "---  ------                --------------   -----  \n",
      " 0   city_fuel_economy     697881 non-null  float64\n",
      " 1   daysonmarket          697881 non-null  int64  \n",
      " 2   engine_displacement   697881 non-null  float64\n",
      " 3   highway_fuel_economy  697881 non-null  float64\n",
      " 4   horsepower            697881 non-null  float64\n",
      " 5   length                697881 non-null  float64\n",
      " 6   maximum_seating       697881 non-null  float64\n",
      " 7   mileage               697881 non-null  float64\n",
      " 8   owner_count           697881 non-null  float64\n",
      " 9   price                 697881 non-null  float64\n",
      " 10  seller_rating         697881 non-null  float64\n",
      " 11  width                 697881 non-null  float64\n",
      " 12  year                  697881 non-null  int64  \n",
      "dtypes: float64(11), int64(2)\n",
      "memory usage: 74.5 MB\n"
     ]
    }
   ],
   "source": [
    "# creating the data containing numberical dataset\n",
    "df_num = df_final[['city_fuel_economy','daysonmarket','engine_displacement', 'highway_fuel_economy','horsepower',\n",
    "                 'length', 'maximum_seating','mileage','owner_count','price','seller_rating','width','year']]\n",
    "df_num.info()"
   ]
  },
  {
   "cell_type": "code",
   "execution_count": 9,
   "metadata": {},
   "outputs": [],
   "source": [
    "names = np.array(['city_fuel_economy','daysonmarket','engine_displacement', 'highway_fuel_economy','horsepower', \n",
    "\t\t'length', 'maximum_seating','mileage','owner_count','price','seller_rating','width','year'])\n",
    "features_names = pd.Series(names)"
   ]
  },
  {
   "cell_type": "code",
   "execution_count": 10,
   "metadata": {},
   "outputs": [
    {
     "name": "stdout",
     "output_type": "stream",
     "text": [
      "pca: [[-0.42132195  0.10484459 -0.07575576  0.0349237  -0.03502952  0.10394236]\n",
      " [ 0.00816961  0.03943551  0.15608508  0.75987378  0.62174468 -0.08615542]\n",
      " [ 0.38779046 -0.05961322  0.13399639 -0.13894031  0.06548041 -0.3597012 ]\n",
      " [-0.42033337  0.07322847 -0.00547019  0.01545757 -0.01530633  0.13395932]\n",
      " [ 0.39796295  0.06143529  0.28372849 -0.13368919  0.06310181 -0.00394776]\n",
      " [ 0.34893888  0.01828504 -0.3868652   0.11651535 -0.07347132 -0.02218401]\n",
      " [ 0.25013437 -0.0014054  -0.58073668  0.21767071 -0.10117483 -0.06927466]\n",
      " [ 0.0327452  -0.56342485 -0.08415367  0.03716664 -0.0411177  -0.03164666]\n",
      " [ 0.01446323 -0.46640452  0.23161095 -0.04082692  0.10577622  0.42763984]\n",
      " [ 0.22155206  0.32639307  0.41670299 -0.13676347  0.0571755   0.06396686]\n",
      " [ 0.035765   -0.00095536  0.35810053  0.53601347 -0.75518429 -0.07311398]\n",
      " [ 0.3177215   0.07822123 -0.08443861  0.11803659 -0.03713884  0.79029352]\n",
      " [-0.00816067  0.57165816 -0.12148744  0.00203441 -0.01540709  0.10610315]]\n"
     ]
    }
   ],
   "source": [
    "from sklearn.decomposition import PCA\n",
    "# Standardize the feature\n",
    "df_num= StandardScaler().fit_transform(df_num)\n",
    "\n",
    "pca = PCA(n_components=6)\n",
    "df_num_pca = pca.fit(df_num).transform(df_num) # fit data and then transform it\n",
    "\n",
    "# print the components\n",
    "print ('pca:', pca.components_.transpose())"
   ]
  },
  {
   "cell_type": "code",
   "execution_count": 11,
   "metadata": {},
   "outputs": [
    {
     "name": "stdout",
     "output_type": "stream",
     "text": [
      "[0.36999273 0.18842452 0.08495619 0.07847443 0.07452814 0.04641989]\n",
      "84.27959007026332\n"
     ]
    }
   ],
   "source": [
    "# the explained variance indicates how much information (variance) can be attributed to each of the principal components\n",
    "pca.explained_variance_ratio_\n",
    "Sum = sum(pca.explained_variance_ratio_) \n",
    "print(pca.explained_variance_ratio_)\n",
    "print(Sum*100) ## first 6 components explains 84.3% of the variation "
   ]
  },
  {
   "cell_type": "code",
   "execution_count": 12,
   "metadata": {},
   "outputs": [
    {
     "name": "stdout",
     "output_type": "stream",
     "text": [
      "pca: [[-0.42132195  0.10484459 -0.07575576]\n",
      " [ 0.00816961  0.03943551  0.15608508]\n",
      " [ 0.38779046 -0.05961322  0.13399639]\n",
      " [-0.42033337  0.07322847 -0.00547019]\n",
      " [ 0.39796295  0.06143529  0.28372849]\n",
      " [ 0.34893888  0.01828504 -0.3868652 ]\n",
      " [ 0.25013437 -0.0014054  -0.58073668]\n",
      " [ 0.0327452  -0.56342485 -0.08415367]\n",
      " [ 0.01446323 -0.46640452  0.23161095]\n",
      " [ 0.22155206  0.32639307  0.41670299]\n",
      " [ 0.035765   -0.00095536  0.35810053]\n",
      " [ 0.3177215   0.07822123 -0.08443861]\n",
      " [-0.00816067  0.57165816 -0.12148744]]\n"
     ]
    }
   ],
   "source": [
    "pca = PCA(n_components=3)\n",
    "df_num_pca = pca.fit(df_num).transform(df_num) # fit data and then transform it\n",
    "\n",
    "# print the components\n",
    "print ('pca:', pca.components_.transpose())"
   ]
  },
  {
   "cell_type": "code",
   "execution_count": 13,
   "metadata": {},
   "outputs": [
    {
     "name": "stdout",
     "output_type": "stream",
     "text": [
      "[0.36999273 0.18842452 0.08495619]\n",
      "64.33734354838782\n"
     ]
    }
   ],
   "source": [
    "# the explained variance indicates how much information (variance) can be attributed to each of the principal components\n",
    "pca.explained_variance_ratio_\n",
    "Sum = sum(pca.explained_variance_ratio_) \n",
    "print(pca.explained_variance_ratio_)\n",
    "print(Sum*100) ## first 3 components explains 64.3% of the variation "
   ]
  },
  {
   "cell_type": "code",
   "execution_count": 14,
   "metadata": {},
   "outputs": [
    {
     "data": {
      "text/plain": [
       "['-0.42*city_fuel_ec +0.01*daysonm +0.39*engine_displac -0.42*highway_fuel_ec +0.40*horse +0.35*l +0.25*maximum_se +0.03*mi +0.01*owner_ +0.22* +0.04*seller_r +0.32* -0.01* ',\n",
       " '0.10*city_fuel_ec +0.04*daysonm -0.06*engine_displac +0.07*highway_fuel_ec +0.06*horse +0.02*l -0.00*maximum_se -0.56*mi -0.47*owner_ +0.33* -0.00*seller_r +0.08* +0.57* ',\n",
       " '-0.08*city_fuel_ec +0.16*daysonm +0.13*engine_displac -0.01*highway_fuel_ec +0.28*horse -0.39*l -0.58*maximum_se -0.08*mi +0.23*owner_ +0.42* +0.36*seller_r -0.08* -0.12* ']"
      ]
     },
     "execution_count": 14,
     "metadata": {},
     "output_type": "execute_result"
    }
   ],
   "source": [
    "# find the weights of the features in the 6 two components\n",
    "\n",
    "def get_feature_names_from_weights(weights, names):\n",
    "    tmp_array = []\n",
    "    for comp in weights:\n",
    "        tmp_string = ''\n",
    "        for fidx,f in enumerate(names):\n",
    "            if fidx>0 and comp[fidx]>=0:\n",
    "                tmp_string+='+'\n",
    "            tmp_string += '%.2f*%s ' % (comp[fidx],f[:-5])\n",
    "        tmp_array.append(tmp_string)\n",
    "    return tmp_array\n",
    "\n",
    "# assign weights with features\n",
    "pca_weight_strings = get_feature_names_from_weights(pca.components_, features_names)\n",
    "pca_weight_strings"
   ]
  },
  {
   "cell_type": "markdown",
   "metadata": {},
   "source": [
    "The top 7 Principal Component explains 84% variation of the data, whereas the top 3 does 65%. Though we have built our models using the full dataset including categorical variables, we would like to see which numerical dimensions have contributed much to the top 3 PCs and use those numerical dimensions to build the model and evaluate the different matrix such accuracy, recall and so forth. In this analysis, we use 0.3 as the cut-off coefficient of linear combinations of PC1, PC2 and PC3 to demarcate the significance of the features in these Principal Components. We have found that 'has_accidents','city_fuel_economy','engine_displacement', 'highway_fuel_economy','horsepower','length','mileage','owner_count','price','width','year' contribute meaningfully in top 3 PCs. "
   ]
  },
  {
   "cell_type": "markdown",
   "metadata": {},
   "source": [
    "After running dimensionality reduction by using PCA (after standardization) we will utilize the following coefficients:\n",
    "1. city_fuel_economy\n",
    "2. engine_displacement\n",
    "3. highway_fuel_economy\n",
    "4. horsepower\n",
    "5. length\n",
    "6. mileage\n",
    "7. owner_count\n",
    "8. price\n",
    "9. width\n",
    "10. year"
   ]
  },
  {
   "cell_type": "code",
   "execution_count": 151,
   "metadata": {},
   "outputs": [
    {
     "name": "stdout",
     "output_type": "stream",
     "text": [
      "<class 'pandas.core.frame.DataFrame'>\n",
      "Int64Index: 697881 entries, 0 to 697988\n",
      "Data columns (total 11 columns):\n",
      " #   Column                Non-Null Count   Dtype  \n",
      "---  ------                --------------   -----  \n",
      " 0   has_accidents         697881 non-null  int64  \n",
      " 1   city_fuel_economy     697881 non-null  float64\n",
      " 2   engine_displacement   697881 non-null  float64\n",
      " 3   highway_fuel_economy  697881 non-null  float64\n",
      " 4   horsepower            697881 non-null  float64\n",
      " 5   length                697881 non-null  float64\n",
      " 6   mileage               697881 non-null  float64\n",
      " 7   owner_count           697881 non-null  float64\n",
      " 8   price                 697881 non-null  float64\n",
      " 9   width                 697881 non-null  float64\n",
      " 10  year                  697881 non-null  int64  \n",
      "dtypes: float64(9), int64(2)\n",
      "memory usage: 63.9 MB\n"
     ]
    }
   ],
   "source": [
    "df_pca= df_final[['has_accidents','city_fuel_economy','engine_displacement', 'highway_fuel_economy','horsepower','length','mileage','owner_count','price','width','year']].copy()\n",
    "df_pca.info()"
   ]
  },
  {
   "cell_type": "markdown",
   "metadata": {},
   "source": [
    "Initially when we ran our SVM model, with roughly 700k records it took around 4 hours to run without completing, so we decided to create a new dataset with only 30k records to implement SVM models"
   ]
  },
  {
   "cell_type": "code",
   "execution_count": 152,
   "metadata": {},
   "outputs": [
    {
     "name": "stdout",
     "output_type": "stream",
     "text": [
      "<class 'pandas.core.frame.DataFrame'>\n",
      "Int64Index: 30000 entries, 381899 to 12036\n",
      "Data columns (total 11 columns):\n",
      " #   Column                Non-Null Count  Dtype  \n",
      "---  ------                --------------  -----  \n",
      " 0   has_accidents         30000 non-null  int64  \n",
      " 1   city_fuel_economy     30000 non-null  float64\n",
      " 2   engine_displacement   30000 non-null  float64\n",
      " 3   highway_fuel_economy  30000 non-null  float64\n",
      " 4   horsepower            30000 non-null  float64\n",
      " 5   length                30000 non-null  float64\n",
      " 6   mileage               30000 non-null  float64\n",
      " 7   owner_count           30000 non-null  float64\n",
      " 8   price                 30000 non-null  float64\n",
      " 9   width                 30000 non-null  float64\n",
      " 10  year                  30000 non-null  int64  \n",
      "dtypes: float64(9), int64(2)\n",
      "memory usage: 2.7 MB\n"
     ]
    }
   ],
   "source": [
    " # Convert the dictionary into DataFrame  \n",
    "df_pca_small = pd.DataFrame(df_pca) \n",
    "# Randomly select 1000 rows for test\n",
    "df_pca_small=df_pca_small.sample(n=30000) \n",
    "df_pca_small.info()"
   ]
  },
  {
   "cell_type": "markdown",
   "metadata": {},
   "source": [
    "## Training and Testing Split\n",
    "Once our dataset ready for modeling, we will move on to our next steps of splitting up our data. For our dataset, we will use a 80:20 split that roughly leaves our full training set with roughly 560k records and test set the remaining 140k records. We will then apply a 3-fold Cross Validation with a seed of 42 because it (42) is the answer to the ultimate question of life, the universe, and everything.\n",
    "<br><br>\n",
    "Additionally, we will also create another training/test split with a random sample of 30k records with all the same split parameters to use on our SVM model since running it on the entire 700k dataset was taking too long (4+ hours without finishing) to compile.\n",
    "<br><br>\n",
    "Our resposne variable will be 'has_accidents', which in it's rawest form a boolean value ('T', 'F') that tells us whether a car has been in an accident or not."
   ]
  },
  {
   "cell_type": "markdown",
   "metadata": {},
   "source": [
    "#### Train/Test Split on 700k dataset"
   ]
  },
  {
   "cell_type": "code",
   "execution_count": 153,
   "metadata": {},
   "outputs": [
    {
     "name": "stdout",
     "output_type": "stream",
     "text": [
      "ShuffleSplit(n_splits=3, random_state=None, test_size=0.2, train_size=None)\n"
     ]
    }
   ],
   "source": [
    "if 'has_accidents' in df_pca:\n",
    "    y = df_pca['has_accidents'].values # get the labels we want\n",
    "    del df_pca['has_accidents'] # get rid of the class label\n",
    "    X = df_pca.values # use everything else to predict!\n",
    "\n",
    "num_cv_iterations = 3\n",
    "num_instances = len(y)\n",
    "cv_object = ShuffleSplit(n_splits=num_cv_iterations,test_size= 0.2)     \n",
    "print(cv_object)"
   ]
  },
  {
   "cell_type": "markdown",
   "metadata": {},
   "source": [
    "#### Train/Test Split on 30k dataset"
   ]
  },
  {
   "cell_type": "code",
   "execution_count": 154,
   "metadata": {},
   "outputs": [
    {
     "name": "stdout",
     "output_type": "stream",
     "text": [
      "ShuffleSplit(n_splits=3, random_state=None, test_size=0.2, train_size=None)\n"
     ]
    }
   ],
   "source": [
    "if 'has_accidents' in df_pca_small:\n",
    "    y_small = df_pca_small['has_accidents'].values # get the labels we want\n",
    "    del df_pca_small['has_accidents'] # get rid of the class label\n",
    "    X_small = df_pca_small.values # use everything else to predict!\n",
    "\n",
    "num_cv_iterations_small = 3\n",
    "num_instances_small = len(y_small)\n",
    "cv_object_small = ShuffleSplit(n_splits=num_cv_iterations_small,test_size= 0.2)     \n",
    "print(cv_object_small)"
   ]
  },
  {
   "cell_type": "markdown",
   "metadata": {},
   "source": [
    "## Logistic Regression (LR)\n",
    "Once the training and test set was built, we next ran our Logistic Regression (LR) model using L2 penalization and a regularization (\"c\") value of 1. With 3 fold CV, we saw that each of our testing iterations returned an average accuracy of about .876 with the lowest accuracy of 0.875 and the highest accuracy of 0.881."
   ]
  },
  {
   "cell_type": "code",
   "execution_count": 155,
   "metadata": {},
   "outputs": [],
   "source": [
    "lr_clf = LogisticRegression(penalty='l2', C=1.0, class_weight=None, solver='liblinear' ) "
   ]
  },
  {
   "cell_type": "code",
   "execution_count": 156,
   "metadata": {},
   "outputs": [
    {
     "name": "stdout",
     "output_type": "stream",
     "text": [
      "====Iteration 0  ====\n",
      "accuracy 0.8786332991825301\n",
      "confusion matrix\n",
      " [[122565    117]\n",
      " [ 16823     72]]\n",
      "====Iteration 1  ====\n",
      "accuracy 0.8793425850963984\n",
      "confusion matrix\n",
      " [[122690    110]\n",
      " [ 16731     46]]\n",
      "====Iteration 2  ====\n",
      "accuracy 0.8779311777728422\n",
      "confusion matrix\n",
      " [[122463    132]\n",
      " [ 16906     76]]\n"
     ]
    }
   ],
   "source": [
    "iter_num=0\n",
    "# the indices are the rows used for training and testing in each iteration\n",
    "for train_indices, test_indices in cv_object.split(X,y): \n",
    "    # I will create new variables here so that it is more obvious what \n",
    "    # the code is doing (you can compact this syntax and avoid duplicating memory,\n",
    "    # but it makes this code less readable)\n",
    "    X_train = X[train_indices]\n",
    "    y_train = y[train_indices]\n",
    "    \n",
    "    X_test = X[test_indices]\n",
    "    y_test = y[test_indices]\n",
    "    \n",
    "    # train the reusable logisitc regression model on the training data\n",
    "    lr_clf.fit(X_train,y_train)  # train object\n",
    "    y_hat = lr_clf.predict(X_test) # get test set precitions\n",
    "\n",
    "    # now let's get the accuracy and confusion matrix for this iterations of training/testing\n",
    "    acc = mt.accuracy_score(y_test,y_hat)\n",
    "    conf = mt.confusion_matrix(y_test,y_hat)\n",
    "    print(\"====Iteration\",iter_num,\" ====\")\n",
    "    print(\"accuracy\", acc )\n",
    "    print(\"confusion matrix\\n\",conf)\n",
    "    iter_num+=1"
   ]
  },
  {
   "cell_type": "code",
   "execution_count": 130,
   "metadata": {},
   "outputs": [
    {
     "name": "stdout",
     "output_type": "stream",
     "text": [
      "558304\n",
      "139577\n"
     ]
    }
   ],
   "source": [
    "print(X_train.shape[0])\n",
    "print(X_test.shape[0])"
   ]
  },
  {
   "cell_type": "markdown",
   "metadata": {},
   "source": [
    "**Weights *before* normalization:**\n",
    "<br>\n",
    "We can see that before we normalized our model coefficients the **'horsepower'** was the only coefficient that had a somewhat positive weight whereas all other coefficients were negative with **'year'** being the lowest negative coefficient. It's strange to see horsepower hold the highest weight in the unnormalized model but this could simply be because both horsepwoer and year have vastly different scales as shown by their median values. "
   ]
  },
  {
   "cell_type": "code",
   "execution_count": 131,
   "metadata": {},
   "outputs": [
    {
     "name": "stdout",
     "output_type": "stream",
     "text": [
      "year has weight of -0.0009553779250896197\n",
      "length has weight of -0.0004542463325083729\n",
      "width has weight of -0.0004119454733101234\n",
      "price has weight of -3.4591969267793524e-05\n",
      "city_fuel_economy has weight of -2.7186942712450248e-05\n",
      "engine_displacement has weight of 1.7480282842966055e-06\n",
      "mileage has weight of 7.722467215652182e-06\n",
      "highway_fuel_economy has weight of 8.923425580866553e-05\n",
      "owner_count has weight of 0.00014250053759082165\n",
      "horsepower has weight of 0.0015011722404617701\n"
     ]
    }
   ],
   "source": [
    "weights = lr_clf.coef_.T # take transpose to make a column vector\n",
    "variable_names = df_pca.columns\n",
    "zip_vars = zip(lr_clf.coef_.T,df_pca.columns) # combine attributes\n",
    "zip_vars = sorted(zip_vars)\n",
    "\n",
    "for coef, name in zip_vars:\n",
    "    print(name, 'has weight of', coef[0])"
   ]
  },
  {
   "cell_type": "code",
   "execution_count": 132,
   "metadata": {},
   "outputs": [
    {
     "name": "stdout",
     "output_type": "stream",
     "text": [
      "horsepower    248.0\n",
      "dtype: float64\n",
      "year    2017.0\n",
      "dtype: float64\n"
     ]
    }
   ],
   "source": [
    "print(df_pca[['horsepower']].median())\n",
    "print(df_pca[['year']].median())"
   ]
  },
  {
   "cell_type": "code",
   "execution_count": 133,
   "metadata": {},
   "outputs": [
    {
     "data": {
      "image/png": "[encoded data removed]",
      "text/plain": [
       "<Figure size 432x288 with 1 Axes>"
      ]
     },
     "metadata": {},
     "output_type": "display_data"
    }
   ],
   "source": [
    "from matplotlib import pyplot as plt\n",
    "%matplotlib inline\n",
    "plt.style.use('ggplot')\n",
    "\n",
    "\n",
    "weights = pd.Series(lr_clf.coef_[0],index=df_pca.columns)\n",
    "weights.plot(kind='bar')\n",
    "plt.show()"
   ]
  },
  {
   "cell_type": "markdown",
   "metadata": {},
   "source": [
    "**Weights *after* normalization:**\n",
    "<br>\n",
    "Once the weights have been normalized, a different picture is shown. Not only do our model's accuracy slightly increase (by .004), but the weights of our models make much more sense. \n",
    "<br><br>\n",
    "We can see that as expected, **'mileage'** is heavily weighted along with **'highway_fuel_economy'**. This makes sense since mileage is simply a metric of how much a car has driven; the more miles on a car, the more it's been driven, thus the more it's driven the higher chances it has of being involved in an accident. **'owner_count'** is also positively weighted since different owners can increase the odds of accidents as 1 owner may be a conservative driver whereas the next owner may not. \n",
    "<br><br>\n",
    "What's interesting is that **'price'** has a very strong negative weight with the odds of having an accident, which can be explained that the more often a car has an accident, the lower the car's price will be."
   ]
  },
  {
   "cell_type": "code",
   "execution_count": 135,
   "metadata": {},
   "outputs": [
    {
     "data": {
      "text/plain": [
       "0.4904807719458635"
      ]
     },
     "execution_count": 135,
     "metadata": {},
     "output_type": "execute_result"
    }
   ],
   "source": [
    "df_pca['mileage'].corr(df_pca['owner_count'])"
   ]
  },
  {
   "cell_type": "code",
   "execution_count": 136,
   "metadata": {},
   "outputs": [
    {
     "name": "stdout",
     "output_type": "stream",
     "text": [
      "accuracy: 0.8792351175336911\n",
      "[[122608    162]\n",
      " [ 16694    113]]\n"
     ]
    }
   ],
   "source": [
    "# scale attributes by the training set\n",
    "scl_obj = StandardScaler()\n",
    "scl_obj.fit(X_train) # find scalings for each column that make this zero mean and unit std\n",
    "# the line of code above only looks at training data to get mean and std and we can use it \n",
    "# to transform new feature data\n",
    "\n",
    "X_train_scaled = scl_obj.transform(X_train) # apply to training\n",
    "X_test_scaled = scl_obj.transform(X_test) # apply those means and std to the test set (without snooping at the test set values)\n",
    "\n",
    "# train the model just as before\n",
    "lr_clf = LogisticRegression(penalty='l2', C=0.05, solver='liblinear') # get object, the 'C' value is less (can you guess why??)\n",
    "lr_clf.fit(X_train_scaled,y_train)  # train object\n",
    "\n",
    "y_hat = lr_clf.predict(X_test_scaled) # get test set precitions\n",
    "\n",
    "acc = mt.accuracy_score(y_test,y_hat)\n",
    "conf = mt.confusion_matrix(y_test,y_hat)\n",
    "print('accuracy:', acc )\n",
    "print(conf )"
   ]
  },
  {
   "cell_type": "code",
   "execution_count": 137,
   "metadata": {},
   "outputs": [
    {
     "name": "stdout",
     "output_type": "stream",
     "text": [
      "price has weight of -0.3985271437293967\n",
      "city_fuel_economy has weight of -0.09960716815995434\n",
      "year has weight of -0.08956638559161825\n",
      "width has weight of -0.0661191529595463\n",
      "engine_displacement has weight of -0.032228315467299935\n",
      "length has weight of 0.032258568841670505\n",
      "owner_count has weight of 0.10772461531820561\n",
      "highway_fuel_economy has weight of 0.13923525214450205\n",
      "horsepower has weight of 0.14606566260302206\n",
      "mileage has weight of 0.20556430761891398\n"
     ]
    }
   ],
   "source": [
    "# sort these attributes and spit them out\n",
    "zip_vars = zip(lr_clf.coef_.T,df_pca.columns) # combine attributes\n",
    "zip_vars = sorted(zip_vars)\n",
    "for coef, name in zip_vars:\n",
    "    print(name, 'has weight of', coef[0]) # now print them out"
   ]
  },
  {
   "cell_type": "code",
   "execution_count": 138,
   "metadata": {},
   "outputs": [
    {
     "data": {
      "image/png": "[encoded data removed]",
      "text/plain": [
       "<Figure size 432x288 with 1 Axes>"
      ]
     },
     "metadata": {},
     "output_type": "display_data"
    }
   ],
   "source": [
    "from matplotlib import pyplot as plt\n",
    "%matplotlib inline\n",
    "plt.style.use('ggplot')\n",
    "\n",
    "\n",
    "weights = pd.Series(lr_clf.coef_[0],index=df_pca.columns)\n",
    "weights.plot(kind='bar')\n",
    "plt.show()"
   ]
  },
  {
   "cell_type": "markdown",
   "metadata": {},
   "source": [
    "## Support Vector Machines (SVM)"
   ]
  },
  {
   "cell_type": "markdown",
   "metadata": {},
   "source": [
    "#### Model 1 - Running SVM"
   ]
  },
  {
   "cell_type": "code",
   "execution_count": 157,
   "metadata": {},
   "outputs": [],
   "source": [
    "# okay, so run through the cross validation loop and set the training and testing variable for one single iteration\n",
    "for train_indices, test_indices in cv_object_small.split(X_small,y_small): \n",
    "    # I will create new variables here so that it is more obvious what \n",
    "    # the code is doing (you can compact this syntax and avoid duplicating memory,\n",
    "    # but it makes this code less readable)\n",
    "    X_train_small = X[train_indices]\n",
    "    y_train_small = y[train_indices]\n",
    "    \n",
    "    X_test_small = X[test_indices]\n",
    "    y_test_small = y[test_indices]\n",
    "    \n",
    "X_train_scaled_small = scl_obj.transform(X_train_small) # apply to training\n",
    "X_test_scaled_small = scl_obj.transform(X_test_small) "
   ]
  },
  {
   "cell_type": "code",
   "execution_count": 144,
   "metadata": {},
   "outputs": [
    {
     "name": "stdout",
     "output_type": "stream",
     "text": [
      "accuracy: 0.8593333333333333\n",
      "[[5156    0]\n",
      " [ 844    0]]\n"
     ]
    }
   ],
   "source": [
    "# lets investigate SVMs on the data and play with the parameters and kernels\n",
    "from sklearn.svm import SVC\n",
    "\n",
    "\n",
    "# train the model just as before\n",
    "svm_clf = SVC(C=0.5, kernel='rbf', degree=3, gamma='auto') # get object\n",
    "svm_clf.fit(X_train_scaled_small, y_train_small)  # train object\n",
    "\n",
    "y_hat_small = svm_clf.predict(X_test_scaled_small) # get test set precitions\n",
    "\n",
    "acc = mt.accuracy_score(y_test_small,y_hat_small)\n",
    "conf = mt.confusion_matrix(y_test_small,y_hat_small)\n",
    "print('accuracy:', acc )\n",
    "print(conf)"
   ]
  },
  {
   "cell_type": "code",
   "execution_count": 146,
   "metadata": {},
   "outputs": [
    {
     "name": "stdout",
     "output_type": "stream",
     "text": [
      "<class 'pandas.core.frame.DataFrame'>\n",
      "Int64Index: 8754 entries, 480418 to 322562\n",
      "Data columns (total 11 columns):\n",
      " #   Column                Non-Null Count  Dtype  \n",
      "---  ------                --------------  -----  \n",
      " 0   city_fuel_economy     8754 non-null   float64\n",
      " 1   engine_displacement   8754 non-null   float64\n",
      " 2   highway_fuel_economy  8754 non-null   float64\n",
      " 3   horsepower            8754 non-null   float64\n",
      " 4   length                8754 non-null   float64\n",
      " 5   mileage               8754 non-null   float64\n",
      " 6   owner_count           8754 non-null   float64\n",
      " 7   price                 8754 non-null   float64\n",
      " 8   width                 8754 non-null   float64\n",
      " 9   year                  8754 non-null   int64  \n",
      " 10  has_accidents         8754 non-null   int64  \n",
      "dtypes: float64(9), int64(2)\n",
      "memory usage: 820.7 KB\n"
     ]
    }
   ],
   "source": [
    "# Now let's do some different analysis with the SVM and look at the instances that were chosen as support vectors\n",
    "\n",
    "# now lets look at the support for the vectors and see if we they are indicative of anything\n",
    "# grabe the rows that were selected as support vectors (these are usually instances that are hard to classify)\n",
    "\n",
    "# make a dataframe of the training data\n",
    "df_tested_on = df_pca_small.iloc[train_indices].copy() # saved from above, the indices chosen for training\n",
    "# now get the support vectors from the trained model\n",
    "df_support = df_tested_on.iloc[svm_clf.support_,:].copy()\n",
    "\n",
    "df_support['has_accidents'] = y_small[svm_clf.support_] # add back in the 'Survived' Column to the pandas dataframe\n",
    "df_pca_small['has_accidents'] = y_small # also add it back in for the original data\n",
    "df_support.info()"
   ]
  },
  {
   "cell_type": "markdown",
   "metadata": {},
   "source": [
    "These plots illustrate the difference between the original distributions of price, mileage, horsepower and width and the distributions of the same dataset derived for support vector machine of test data. We can see the distributions of the price and the mileage closely match between the original data and those we got from test data of support vector machine, the fact that indicates that these two dimensions clearly classify the response variables in terms of no-accidents vs has_accidents. However, the horsepower and the width have done the reasonable job in classify the response variable as the distributions of original data and those of support vector are close, though not as close as what the price and the mileage have done. \n",
    "<br><br>\n",
    "The finding confirms the PCA analysis where we could see the mileage and the price bear the maximum correlation with PC1 and PC2, which explain 65% of the variation. Secondly, the correlations / weights of the price and the mileage in the logistic regression model is much higher than others, meaning these two dimensions play an emphatic role in the classifying the response variable. \n"
   ]
  },
  {
   "cell_type": "code",
   "execution_count": 147,
   "metadata": {},
   "outputs": [
    {
     "data": {
      "image/png": "[encoded data removed]",
      "text/plain": [
       "<Figure size 720x288 with 2 Axes>"
      ]
     },
     "metadata": {},
     "output_type": "display_data"
    },
    {
     "data": {
      "image/png": "[encoded data removed]",
      "text/plain": [
       "<Figure size 720x288 with 2 Axes>"
      ]
     },
     "metadata": {},
     "output_type": "display_data"
    },
    {
     "data": {
      "image/png": "[encoded data removed]",
      "text/plain": [
       "<Figure size 720x288 with 2 Axes>"
      ]
     },
     "metadata": {},
     "output_type": "display_data"
    },
    {
     "data": {
      "image/png": "[encoded data removed]",
      "text/plain": [
       "<Figure size 720x288 with 2 Axes>"
      ]
     },
     "metadata": {},
     "output_type": "display_data"
    }
   ],
   "source": [
    "# now lets see the statistics of these attributes\n",
    "from pandas.plotting import boxplot\n",
    "\n",
    "# group the original data and the support vectors\n",
    "df_grouped_support = df_support.groupby(['has_accidents'])\n",
    "df_grouped = df_pca_small.groupby(['has_accidents'])\n",
    "\n",
    "# plot KDE of Different variables\n",
    "vars_to_plot = ['price','mileage','horsepower','width']\n",
    "\n",
    "for v in vars_to_plot:\n",
    "    plt.figure(figsize=(10,4))\n",
    "    # plot support vector stats\n",
    "    plt.subplot(1,2,1)\n",
    "    ax = df_grouped_support[v].plot.kde() \n",
    "    plt.legend(['No_accidents','has_accidents'])\n",
    "    plt.title(v+' (Instances chosen as Support Vectors)')\n",
    "    \n",
    "    # plot original distributions\n",
    "    plt.subplot(1,2,2)\n",
    "    ax = df_grouped[v].plot.kde() \n",
    "    plt.legend(['No_accidents','has_accidents'])\n",
    "    plt.title(v+' (Original)')"
   ]
  },
  {
   "cell_type": "markdown",
   "metadata": {},
   "source": [
    "#### Model 2 - Running SVM using LinearSVC"
   ]
  },
  {
   "cell_type": "code",
   "execution_count": 160,
   "metadata": {},
   "outputs": [
    {
     "name": "stdout",
     "output_type": "stream",
     "text": [
      "558304\n",
      "24000\n"
     ]
    }
   ],
   "source": [
    "print(X_train.shape[0])\n",
    "print(X_train_small.shape[0])"
   ]
  },
  {
   "cell_type": "code",
   "execution_count": 161,
   "metadata": {},
   "outputs": [
    {
     "name": "stdout",
     "output_type": "stream",
     "text": [
      "Accuracy: 0.8778452037226764\n",
      "we got a classification rate of 80%, which is considered a decent accuracy\"\n",
      "[[122432    163]\n",
      " [ 16887     95]]\n",
      "For further evaluation, we want ot also check precision and recall of model\n",
      "Precision 0.3682170542635659\n",
      "Recall: 0.005594158520786715\n"
     ]
    }
   ],
   "source": [
    "# lets investigate SVMs on the data and play with the parameters and kernels\n",
    "#from sklearn.svm import SVC\n",
    "from sklearn.svm import LinearSVC\n",
    "#Import svm model\n",
    "from sklearn import svm\n",
    "from sklearn.datasets import make_classification\n",
    "from sklearn.feature_selection import SelectKBest, f_classif\n",
    "from sklearn.model_selection import train_test_split\n",
    "from sklearn.metrics import classification_report\n",
    "from sklearn.preprocessing import StandardScaler\n",
    "\n",
    "\n",
    "# import some data to play with\n",
    "#X, y = make_classification(\n",
    "#    n_features=18, n_informative=3, n_redundant=0, n_classes=2,\n",
    "#    n_clusters_per_class=2)\n",
    "\n",
    "#X_train, X_test, y_train, y_test = train_test_split(X, y, random_state=590000)\n",
    "\n",
    "# create a svm classifier\n",
    "svm_clf = svm.LinearSVC() #linear kernel\n",
    "\n",
    "# train the model using the training sets\n",
    "svm_clf.fit(X_train, y_train)\n",
    "\n",
    "# predict the response for test dataset\n",
    "y_hat = svm_clf.predict(X_test)\n",
    "\n",
    "# model accuracty : how often is the classifier correct?\n",
    "acc = mt.accuracy_score(y_test,y_hat)\n",
    "conf = mt.confusion_matrix(y_test,y_hat)"
   ]
  },
  {
   "cell_type": "code",
   "execution_count": 170,
   "metadata": {},
   "outputs": [
    {
     "name": "stdout",
     "output_type": "stream",
     "text": [
      "Accuracy: 0.8778452037226764\n",
      "we got a classification rate of 87.78 % which is considered a decent accuracy and similar to that of our LR Accuracy\n",
      "For further evaluation, we want ot also check precision and recall of model\n",
      "Precision 0.3682170542635659\n",
      "Recall: 0.005594158520786715\n"
     ]
    }
   ],
   "source": [
    "print('Accuracy:', acc )\n",
    "print('we got a classification rate of',round(acc*100,2),'% which is considered a decent accuracy and similar to that of our LR Accuracy')\n",
    "\n",
    "print(\"For further evaluation, we want ot also check precision and recall of model\")\n",
    "print(\"Precision\", mt.precision_score(y_test,y_hat))\n",
    "# Model Recall: what percentage of positive tuples are?\n",
    "print(\"Recall:\",mt.recall_score(y_test,y_hat))"
   ]
  },
  {
   "cell_type": "markdown",
   "metadata": {},
   "source": [
    "#### Plotting LinearSVC Results"
   ]
  },
  {
   "cell_type": "code",
   "execution_count": 171,
   "metadata": {},
   "outputs": [
    {
     "data": {
      "image/png": "[encoded data removed]",
      "text/plain": [
       "<Figure size 720x360 with 2 Axes>"
      ]
     },
     "metadata": {},
     "output_type": "display_data"
    }
   ],
   "source": [
    "from sklearn.svm import LinearSVC\n",
    "from sklearn.datasets import make_blobs\n",
    "\n",
    "X, y = make_blobs(n_samples=40, centers=2, random_state=0)\n",
    "\n",
    "plt.figure(figsize=(10, 5))\n",
    "for i, C in enumerate([1, 100]):\n",
    "    # \"hinge\" is the standard SVM loss\n",
    "    clf = LinearSVC(C=C, loss=\"hinge\", random_state=42).fit(X, y)\n",
    "    # obtain the support vectors through the decision function\n",
    "    decision_function = clf.decision_function(X)\n",
    "    # we can also calculate the decision function manually\n",
    "    # decision_function = np.dot(X, clf.coef_[0]) + clf.intercept_[0]\n",
    "    # The support vectors are the samples that lie within the margin\n",
    "    # boundaries, whose size is conventionally constrained to 1\n",
    "    support_vector_indices = np.where(\n",
    "        np.abs(decision_function) <= 1 + 1e-15)[0]\n",
    "    support_vectors = X[support_vector_indices]\n",
    "\n",
    "    plt.subplot(1, 2, i + 1)\n",
    "    plt.scatter(X[:, 0], X[:, 1], c=y, s=30, cmap=plt.cm.Paired)\n",
    "    ax = plt.gca()\n",
    "    xlim = ax.get_xlim()\n",
    "    ylim = ax.get_ylim()\n",
    "    xx, yy = np.meshgrid(np.linspace(xlim[0], xlim[1], 50),\n",
    "                         np.linspace(ylim[0], ylim[1], 50))\n",
    "    Z = clf.decision_function(np.c_[xx.ravel(), yy.ravel()])\n",
    "    Z = Z.reshape(xx.shape)\n",
    "    plt.contour(xx, yy, Z, colors='k', levels=[-1, 0, 1], alpha=0.5,\n",
    "                linestyles=['--', '-', '--'])\n",
    "    plt.scatter(support_vectors[:, 0], support_vectors[:, 1], s=100,\n",
    "                linewidth=1, facecolors='none', edgecolors='k')\n",
    "    plt.title(\"C=\" + str(C))\n",
    "plt.tight_layout()\n",
    "plt.show()"
   ]
  },
  {
   "cell_type": "markdown",
   "metadata": {},
   "source": [
    "LinearSVC uses the linear kernel, which optimizes the boundary via linear function. That is the reason it is fast, but many cases it may not yield the most optimized result. LinearSVC applies the loss function to optimize the result. Here, we have used “hinge” (L2 loss function) as the loss function and the default penalty L2. The parameter C is the constraint set to regulate the strength of the regularization, and it is inversely proportional to the strength of regularization, meaning the lower valueof C, the higher the regularization constraint. With the lower restriction, the LinearSVC will try to overfit the model, which is manifested in the C=1 verse C=100."
   ]
  },
  {
   "cell_type": "markdown",
   "metadata": {},
   "source": [
    "## Optimization\n",
    "In this section, we are using SGD, an iterative optimization algorithm, to see if we can improve the accuracy. As indicated below, we tried to run the same dataset with 2 different approaches: (1) linear SVM with SGD classifer (2) Logistic regression with SGD classifer. We are the following “loss” parameter for our SGD classifier function.\n",
    "\n",
    " - loss=\"hinge\": (soft-margin) linear Support Vector Machine\n",
    " - loss=\"log\": logistic regression\n",
    "</n>\n",
    "\n",
    "As a result, we got an accuracy of 87.8% from the SVM with SGD. The accuracy is a slight improvement from our old accuracy 87.7% running only the SVM model."
   ]
  },
  {
   "cell_type": "markdown",
   "metadata": {},
   "source": [
    "#### Optimizing Linear SVM Model with SGD Classifier\n",
    "Here we will try to improve upon our 2nd model (SVM using LinearSVC) by utilizing the SGDClassifier. Our goal with this approach is see how our accuracy changes using SGD classifier. "
   ]
  },
  {
   "cell_type": "code",
   "execution_count": 175,
   "metadata": {},
   "outputs": [
    {
     "name": "stdout",
     "output_type": "stream",
     "text": [
      "Accuracy: 0.8783323900069495\n",
      "we got a classification rate of 87.83323900069495 %\n"
     ]
    }
   ],
   "source": [
    "from sklearn.linear_model import SGDClassifier\n",
    "from sklearn import metrics as mt\n",
    "\n",
    "SVM_SGDclf = SGDClassifier(class_weight='balanced', alpha=i, penalty='l2', loss='hinge', random_state=42)\n",
    "\n",
    "#train the model using the training sets\n",
    "SVM_SGD_fit = SVM_SGDclf.fit(X_train, y_train)\n",
    "# predict the response for test dataset\n",
    "SVM_SGD_y_hat = SVM_SGDclf.predict(X_test)\n",
    "\n",
    "SVM_SGD_accuracy = mt.accuracy_score(y_test, SVM_SGD_y_hat)\n",
    "SVM_SGD_conf = mt.confusion_matrix(y_test, SVM_SGD_y_hat)"
   ]
  },
  {
   "cell_type": "code",
   "execution_count": 176,
   "metadata": {},
   "outputs": [
    {
     "name": "stdout",
     "output_type": "stream",
     "text": [
      "Accuracy: 0.8783323900069495\n",
      "we got a classification rate of 87.83323900069495 %\n"
     ]
    }
   ],
   "source": [
    "print('Accuracy:', SVM_SGD_accuracy)\n",
    "print('we got a classification rate of',SVM_SGD_accuracy*100,'%')"
   ]
  },
  {
   "cell_type": "markdown",
   "metadata": {},
   "source": [
    "#### Optimization Logisitic Regression with SGD Classifier"
   ]
  },
  {
   "cell_type": "code",
   "execution_count": 177,
   "metadata": {},
   "outputs": [],
   "source": [
    "from sklearn.linear_model import SGDClassifier\n",
    "Logisitic_SGDclf = SGDClassifier(class_weight='balanced', alpha=i, penalty='l2', loss='log', random_state=42)\n",
    "from sklearn import metrics as mt\n",
    "\n",
    "#train the model using the training sets\n",
    "Logistic_SGD_fit = Logisitic_SGDclf.fit(X_train, y_train)\n",
    "# predict the response for test dataset\n",
    "Logistic_SGD_y_hat = Logisitic_SGDclf.predict(X_test)\n",
    "\n",
    "Logistic_SGD_accuracy = mt.accuracy_score(y_test,Logistic_SGD_y_hat)\n",
    "Logistic_SGD_conf = mt.confusion_matrix(y_test,Logistic_SGD_y_hat)"
   ]
  },
  {
   "cell_type": "code",
   "execution_count": 178,
   "metadata": {},
   "outputs": [
    {
     "name": "stdout",
     "output_type": "stream",
     "text": [
      "Accuracy: 0.7750775557577538\n",
      "we got a classification rate of 77.50775557577538 %\n"
     ]
    }
   ],
   "source": [
    "print('Accuracy:', Logistic_SGD_accuracy )\n",
    "print('we got a classification rate of',Logistic_SGD_accuracy*100,'%')"
   ]
  },
  {
   "cell_type": "markdown",
   "metadata": {},
   "source": [
    "By default, we are leveraging the attribute **‘max_iter’**, the maximum number of passes over the training data. The default here is set to 1000. We want to see if there is any influence this parameter has on our accuracy score"
   ]
  },
  {
   "cell_type": "code",
   "execution_count": 179,
   "metadata": {},
   "outputs": [
    {
     "data": {
      "text/plain": [
       "[<matplotlib.lines.Line2D at 0x1dea8696af0>]"
      ]
     },
     "execution_count": 179,
     "metadata": {},
     "output_type": "execute_result"
    },
    {
     "data": {
      "image/png": "[encoded data removed]",
      "text/plain": [
       "<Figure size 432x288 with 1 Axes>"
      ]
     },
     "metadata": {},
     "output_type": "display_data"
    }
   ],
   "source": [
    "n_iters = [5, 10, 20, 50, 100, 1000]\n",
    "scores = []\n",
    "for n_iter in n_iters:\n",
    "    clf = SGDClassifier(loss=\"log\", penalty=\"l2\", max_iter=n_iter)\n",
    "    clf.fit(X_train, y_train)\n",
    "    scores.append(clf.score(X_train, y_train))\n",
    "  \n",
    "plt.title(\"Effect of n_iter\")\n",
    "plt.xlabel(\"n_iter\")\n",
    "plt.ylabel(\"score\")\n",
    "plt.plot(n_iters, scores) "
   ]
  },
  {
   "cell_type": "markdown",
   "metadata": {},
   "source": [
    "Here, we are curious at the performance of the different linear classifiers. Therefore,we decided to run the dataset against all the models.  Based on the diagram  “Effect of loss” showing below . It becomes clear that the **‘log’** and **'squared_hinge'** loss functions gives the best score and the use of the **'modified_huber_loss'** gives the worst value."
   ]
  },
  {
   "cell_type": "code",
   "execution_count": 180,
   "metadata": {},
   "outputs": [
    {
     "data": {
      "text/plain": [
       "[<matplotlib.lines.Line2D at 0x1debf0af4c0>]"
      ]
     },
     "execution_count": 180,
     "metadata": {},
     "output_type": "execute_result"
    },
    {
     "data": {
      "image/png": "[encoded data removed]",
      "text/plain": [
       "<Figure size 432x288 with 1 Axes>"
      ]
     },
     "metadata": {},
     "output_type": "display_data"
    }
   ],
   "source": [
    "losses = [\"hinge\", \"log\", \"modified_huber\", \"perceptron\", \"squared_hinge\"]\n",
    "scores = []\n",
    "for loss in losses:\n",
    "    clf = SGDClassifier(loss=loss, penalty=\"l2\", max_iter=1000)\n",
    "    clf.fit(X_train, y_train)\n",
    "    scores.append(clf.score(X_train, y_train))\n",
    "  \n",
    "plt.title(\"Effect of loss\")\n",
    "plt.xlabel(\"loss\")\n",
    "plt.ylabel(\"score\")\n",
    "x = np.arange(len(losses))\n",
    "plt.xticks(x, losses)\n",
    "plt.plot(x, scores) "
   ]
  },
  {
   "cell_type": "markdown",
   "metadata": {},
   "source": [
    "## Conclusion"
   ]
  },
  {
   "cell_type": "markdown",
   "metadata": {},
   "source": [
    "### Model Accuracies (asc order):\n",
    "- Logistic Regression with SGD: **.775077**\n",
    "- Support Vector Machine: **.859**\n",
    "- Logistic Regression (unnormalized): **.875**\n",
    "- Support Vector Machine with LinearSVC: **.877**\n",
    "- Linear SVM with SGD: **.87833**\n",
    "- Logistic Regression (normalized): **.879**"
   ]
  },
  {
   "cell_type": "markdown",
   "metadata": {},
   "source": [
    "### Model Advantages\n",
    "1. <u>**Logistic Regression Analysis**</u>:\n",
    "- **Advantages:** There is less transformation needed in order to make the model return in a reasonable amount of time. Scaler transformation will increase the accuracy, but is not required for performance as the model performs well at scale regardless of whether the data is normalized or not. \n",
    "- **Disadvantages:** It’s more difficult to interpretate the model, because the weights is multiplicative and not additive\n",
    "- **Performance:**There are many different settings that allow the model to have the best possible accuracy. These methods can be iterated with a grid search method. \n",
    "- **Time:**cost is low with very large scales and does not suffer with big volume of dataset."
   ]
  },
  {
   "cell_type": "markdown",
   "metadata": {},
   "source": [
    "2. <u>**Support Vector Machine Analysis:**</u>\n",
    "- **Advantages:** Reference from Tan book: They can be easily kernelized to solve nonlinear classification problems.\n",
    "- **Performance:** the accuracy running the SVM model was neither better nor worse than our other models with an accuracy of 85.9%. However, given the time and the fact that this model was ran using a reduced dataset, our conclusions may have different had we were able to run it with the larger dataset.\n",
    "- **Disadvantages:** we had to run the SVM model with a reduced dataset since running the SVM model on the entire 700k dataset was taking too long (4+ hours without finishing) to compile. After switching our dataset to 30k, it took a much less time to run.\n",
    "- **Time:** takes a long time to compile the SVM model without any optimization"
   ]
  },
  {
   "cell_type": "markdown",
   "metadata": {},
   "source": [
    "3. <u>**Optimization using Stochastic Gradient Descent:**</u>\n",
    "- **Advantages:** With SGDClassifier it can run much faster than a batch training with faster compile times at a cost of accuracy\n",
    "- **Disadvantages:** since we are not including all the data, it may not provide us ideal results but. \n",
    "- **Performance:** Additionally, overall accuracy could decrease when running multiple iterations due to the directions of the gradient descent in finding the global minima and may eventually diverge. \n",
    "- **Time:** Running SGD is actually very computationally fast as comparatively to it's counterpart SVM. Additionally, we have more control in our model parameter constraints that prevent the model from running longer. "
   ]
  },
  {
   "cell_type": "markdown",
   "metadata": {},
   "source": [
    "### Final Comments & Conclusions\n",
    "The linear logistic regression and linear SVMs often yield very similar results. Logistic regression tries to maximize the conditional likelihoods of the training data, which makes it more prone to outliers than SVMs. The SVMs mostly care about the points that are closest to the decision boundary(support vector)- reference from Sebastian Raschka’s Python Machine Learning book. Due to how SVM is modeled, it could potentially have higher acuracies, but since we only ran it on a limited dataset due to compiling issues we were not able to compare apple to apples with our other models in terms of data volume. Overall, the logistic regression model was the quickest to run along with the highest accuracies. "
   ]
  }
 ],
 "metadata": {
  "kernelspec": {
   "display_name": "Python 3",
   "language": "python",
   "name": "python3"
  },
  "language_info": {
   "codemirror_mode": {
    "name": "ipython",
    "version": 3
   },
   "file_extension": ".py",
   "mimetype": "text/x-python",
   "name": "python",
   "nbconvert_exporter": "python",
   "pygments_lexer": "ipython3",
   "version": "3.8.5"
  }
 },
 "nbformat": 4,
 "nbformat_minor": 4
}
